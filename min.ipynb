{
 "cells": [
  {
   "cell_type": "code",
   "execution_count": 23,
   "metadata": {},
   "outputs": [],
   "source": [
    "import os\n",
    "import numpy as np\n",
    "import pandas as pd\n",
    "\n",
    "import shapely as sp\n",
    "import shapely.geometry as sgeom\n",
    "import cartopy.io.shapereader as shpreader\n",
    "\n",
    "from math import *\n"
   ]
  },
  {
   "cell_type": "code",
   "execution_count": 24,
   "metadata": {},
   "outputs": [],
   "source": [
    "import folium\n",
    "import branca.colormap as cm\n",
    "import json"
   ]
  },
  {
   "cell_type": "code",
   "execution_count": 25,
   "metadata": {},
   "outputs": [],
   "source": [
    "fname = 'data/townships/myanmar_township_boundaries.shp'\n",
    "\n",
    "reader = shpreader.Reader(fname)\n",
    "tsp_geoms = list(reader.geometries())\n",
    "tsp_records = list(reader.records())\n"
   ]
  },
  {
   "cell_type": "code",
   "execution_count": 27,
   "metadata": {
    "scrolled": true
   },
   "outputs": [],
   "source": [
    "tsps_df = pd.DataFrame([x.attributes for x in tsp_records])"
   ]
  },
  {
   "cell_type": "code",
   "execution_count": 51,
   "metadata": {
    "scrolled": false
   },
   "outputs": [
    {
     "data": {
      "text/html": [
       "<div>\n",
       "<style scoped>\n",
       "    .dataframe tbody tr th:only-of-type {\n",
       "        vertical-align: middle;\n",
       "    }\n",
       "\n",
       "    .dataframe tbody tr th {\n",
       "        vertical-align: top;\n",
       "    }\n",
       "\n",
       "    .dataframe thead th {\n",
       "        text-align: right;\n",
       "    }\n",
       "</style>\n",
       "<table border=\"1\" class=\"dataframe\">\n",
       "  <thead>\n",
       "    <tr style=\"text-align: right;\">\n",
       "      <th></th>\n",
       "      <th>AREA</th>\n",
       "      <th>DT</th>\n",
       "      <th>DT_PCODE</th>\n",
       "      <th>LABEL2</th>\n",
       "      <th>OBJECTID</th>\n",
       "      <th>SELF_ADMIN</th>\n",
       "      <th>ST</th>\n",
       "      <th>ST_2</th>\n",
       "      <th>ST_PCODE</th>\n",
       "      <th>ST_RG</th>\n",
       "      <th>TS</th>\n",
       "      <th>TS_PCODE</th>\n",
       "      <th>T_NAME_M3</th>\n",
       "      <th>T_NAME_WIN</th>\n",
       "    </tr>\n",
       "  </thead>\n",
       "  <tbody>\n",
       "    <tr>\n",
       "      <th>0</th>\n",
       "      <td>5761.296368</td>\n",
       "      <td>Mohnyin</td>\n",
       "      <td>MMR001D002</td>\n",
       "      <td>Hpakant\\n169795</td>\n",
       "      <td>250</td>\n",
       "      <td></td>\n",
       "      <td>Kachin</td>\n",
       "      <td>Kachin State</td>\n",
       "      <td>MMR001</td>\n",
       "      <td>State</td>\n",
       "      <td>Hpakant</td>\n",
       "      <td>MMR001009</td>\n",
       "      <td>ဖားကန့်</td>\n",
       "      <td>zm;uefU</td>\n",
       "    </tr>\n",
       "  </tbody>\n",
       "</table>\n",
       "</div>"
      ],
      "text/plain": [
       "          AREA       DT    DT_PCODE           LABEL2  OBJECTID SELF_ADMIN  \\\n",
       "0  5761.296368  Mohnyin  MMR001D002  Hpakant\\n169795       250              \n",
       "\n",
       "       ST          ST_2 ST_PCODE  ST_RG       TS   TS_PCODE T_NAME_M3  \\\n",
       "0  Kachin  Kachin State   MMR001  State  Hpakant  MMR001009   ဖားကန့်   \n",
       "\n",
       "  T_NAME_WIN  \n",
       "0    zm;uefU  "
      ]
     },
     "execution_count": 51,
     "metadata": {},
     "output_type": "execute_result"
    }
   ],
   "source": [
    "tsps_df.head(1)"
   ]
  },
  {
   "cell_type": "code",
   "execution_count": 39,
   "metadata": {},
   "outputs": [],
   "source": [
    "def get_index_of_tsp_location(lat,lon,geoms):\n",
    "    for i, t in enumerate(geoms):\n",
    "        if t.contains(sgeom.Point(lon, lat)):\n",
    "            return i"
   ]
  },
  {
   "cell_type": "code",
   "execution_count": 40,
   "metadata": {},
   "outputs": [
    {
     "data": {
      "text/plain": [
       "0"
      ]
     },
     "execution_count": 40,
     "metadata": {},
     "output_type": "execute_result"
    }
   ],
   "source": [
    "# testing a point in Hpakant, should be index 0 in dataframe\n",
    "\n",
    "get_index_of_tsp_location(25.6787,96.3858,tsp_geoms)"
   ]
  },
  {
   "cell_type": "code",
   "execution_count": 47,
   "metadata": {},
   "outputs": [],
   "source": [
    "def get_attributes_of_tsp_location(lat,lon,geoms,df):\n",
    "    return df.iloc[get_index_of_tsp_location(lat,lon,geoms)];"
   ]
  },
  {
   "cell_type": "code",
   "execution_count": 54,
   "metadata": {},
   "outputs": [
    {
     "data": {
      "text/plain": [
       "'MMR013'"
      ]
     },
     "execution_count": 54,
     "metadata": {},
     "output_type": "execute_result"
    }
   ],
   "source": [
    "# testing a point in Hlaing Tharyar\n",
    "\n",
    "get_attributes_of_tsp_location(16.8728,96.0685,tsp_geoms,tsps_df)[8]"
   ]
  },
  {
   "cell_type": "code",
   "execution_count": 48,
   "metadata": {},
   "outputs": [],
   "source": [
    "def viz_point(lat,lon,geoms,df):\n",
    "    index = get_index_of_tsp_location(25.6787,96.3858,geoms)\n",
    "    location_result = get_attributes_of_tsp_location(16.8728,96.0685,geoms,df)\n",
    "    map = folium.Map(location=[lat,lon], zoom_start=12)\n",
    "    \n",
    "    html=\"\"\"\n",
    "    <strong>Township: </strong>{tsp}<br/>\n",
    "    <strong>State/Region: </strong>{st}<br/>\n",
    "    <strong>Pcode: </strong>{pcode}\n",
    "    \"\"\"\n",
    "    table = folium.Html(html.format(\n",
    "            tsp = location_result['TS'],\n",
    "            st = location_result['ST'],\n",
    "            pcode = location_result['TS_PCODE']\n",
    "        ), script=True)\n",
    "    popup = folium.Popup(table)\n",
    "    \n",
    "    folium.Marker([lat, lon], popup=popup).add_to(map)\n",
    "    return map"
   ]
  },
  {
   "cell_type": "code",
   "execution_count": 49,
   "metadata": {},
   "outputs": [
    {
     "data": {
      "text/html": [
       "<div style=\"width:100%;\"><div style=\"position:relative;width:100%;height:0;padding-bottom:60%;\"><iframe src=\"data:text/html;charset=utf-8;base64,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\" style=\"position:absolute;width:100%;height:100%;left:0;top:0;border:none !important;\" allowfullscreen webkitallowfullscreen mozallowfullscreen></iframe></div></div>"
      ],
      "text/plain": [
       "<folium.folium.Map at 0x195e41346a0>"
      ]
     },
     "execution_count": 49,
     "metadata": {},
     "output_type": "execute_result"
    }
   ],
   "source": [
    "viz_point(16.8728,96.0685,tsp_geoms,tsps_df)"
   ]
  },
  {
   "cell_type": "code",
   "execution_count": null,
   "metadata": {},
   "outputs": [],
   "source": []
  }
 ],
 "metadata": {
  "kernelspec": {
   "display_name": "Python 3",
   "language": "python",
   "name": "python3"
  },
  "language_info": {
   "codemirror_mode": {
    "name": "ipython",
    "version": 3
   },
   "file_extension": ".py",
   "mimetype": "text/x-python",
   "name": "python",
   "nbconvert_exporter": "python",
   "pygments_lexer": "ipython3",
   "version": "3.7.0"
  }
 },
 "nbformat": 4,
 "nbformat_minor": 1
}
