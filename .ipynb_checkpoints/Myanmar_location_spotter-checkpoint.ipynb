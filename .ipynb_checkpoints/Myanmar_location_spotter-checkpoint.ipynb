{
 "cells": [
  {
   "cell_type": "code",
   "execution_count": 1,
   "metadata": {
    "collapsed": true
   },
   "outputs": [],
   "source": [
    "import os\n",
    "import numpy as np\n",
    "import pandas as pd\n",
    "import geopandas as gpd\n",
    "\n",
    "import shapely as sp\n",
    "import shapely.geometry as sgeom\n",
    "import cartopy.io.shapereader as shpreader\n",
    "\n",
    "from math import *\n"
   ]
  },
  {
   "cell_type": "code",
   "execution_count": 2,
   "metadata": {
    "collapsed": true
   },
   "outputs": [],
   "source": [
    "import folium\n",
    "#import branca.colormap as cm\n",
    "#import json"
   ]
  },
  {
   "cell_type": "code",
   "execution_count": 3,
   "metadata": {
    "collapsed": false
   },
   "outputs": [],
   "source": [
    "def read_file(fname):\n",
    "\n",
    "    reader = shpreader.Reader(fname)\n",
    "    geoms = list(reader.geometries())\n",
    "    records = list(reader.records())\n",
    "    gdf = gpd.read_file(fname)\n",
    "\n",
    "    df = pd.DataFrame([x.attributes for x in records])\n",
    "    return gdf"
   ]
  },
  {
   "cell_type": "code",
   "execution_count": 4,
   "metadata": {
    "collapsed": false
   },
   "outputs": [],
   "source": [
    "tsp_gdf = read_file('data/townships/myanmar_township_boundaries.shp')\n",
    "sar_gdf = read_file('data/townships/myanmar_self_administered_regions_boundaries.shp')"
   ]
  },
  {
   "cell_type": "code",
   "execution_count": 5,
   "metadata": {
    "collapsed": false
   },
   "outputs": [
    {
     "data": {
      "text/html": [
       "<div>\n",
       "<style scoped>\n",
       "    .dataframe tbody tr th:only-of-type {\n",
       "        vertical-align: middle;\n",
       "    }\n",
       "\n",
       "    .dataframe tbody tr th {\n",
       "        vertical-align: top;\n",
       "    }\n",
       "\n",
       "    .dataframe thead th {\n",
       "        text-align: right;\n",
       "    }\n",
       "</style>\n",
       "<table border=\"1\" class=\"dataframe\">\n",
       "  <thead>\n",
       "    <tr style=\"text-align: right;\">\n",
       "      <th></th>\n",
       "      <th>OBJECTID</th>\n",
       "      <th>ST</th>\n",
       "      <th>ST_PCODE</th>\n",
       "      <th>DT</th>\n",
       "      <th>DT_PCODE</th>\n",
       "      <th>TS</th>\n",
       "      <th>TS_MYA</th>\n",
       "      <th>TS_PCODE</th>\n",
       "      <th>ST_2</th>\n",
       "      <th>LABEL2</th>\n",
       "      <th>S_ADMIN</th>\n",
       "      <th>ST_RG</th>\n",
       "      <th>AREA</th>\n",
       "      <th>geometry</th>\n",
       "    </tr>\n",
       "  </thead>\n",
       "  <tbody>\n",
       "    <tr>\n",
       "      <th>0</th>\n",
       "      <td>203.0</td>\n",
       "      <td>Shan (South)</td>\n",
       "      <td>MMR014</td>\n",
       "      <td>Taunggyi</td>\n",
       "      <td>MMR014D001</td>\n",
       "      <td>Pindaya</td>\n",
       "      <td>áááºá¸áá</td>\n",
       "      <td>MMR014006</td>\n",
       "      <td>Shan State (South)</td>\n",
       "      <td>Pindaya\\n77769</td>\n",
       "      <td>Danu</td>\n",
       "      <td>State</td>\n",
       "      <td>629.024963</td>\n",
       "      <td>POLYGON ((96.77309906800012 21.04325973900007,...</td>\n",
       "    </tr>\n",
       "    <tr>\n",
       "      <th>1</th>\n",
       "      <td>240.0</td>\n",
       "      <td>Shan (South)</td>\n",
       "      <td>MMR014</td>\n",
       "      <td>Taunggyi</td>\n",
       "      <td>MMR014D001</td>\n",
       "      <td>Ywangan</td>\n",
       "      <td>áá½á¬áá¶</td>\n",
       "      <td>MMR014007</td>\n",
       "      <td>Shan State (South)</td>\n",
       "      <td>Ywangan\\n76933</td>\n",
       "      <td>Danu</td>\n",
       "      <td>State</td>\n",
       "      <td>2984.376944</td>\n",
       "      <td>POLYGON ((96.7848338460001 21.73454093300002, ...</td>\n",
       "    </tr>\n",
       "    <tr>\n",
       "      <th>2</th>\n",
       "      <td>106.0</td>\n",
       "      <td>Shan (South)</td>\n",
       "      <td>MMR014</td>\n",
       "      <td>Taunggyi</td>\n",
       "      <td>MMR014D001</td>\n",
       "      <td>Pinlaung</td>\n",
       "      <td>áááºáá±á¬ááºá¸</td>\n",
       "      <td>MMR014009</td>\n",
       "      <td>Shan State (South)</td>\n",
       "      <td>Pinlaung\\n162537</td>\n",
       "      <td>Pa-O</td>\n",
       "      <td>State</td>\n",
       "      <td>3396.963489</td>\n",
       "      <td>POLYGON ((96.49517839500007 20.4798822220001, ...</td>\n",
       "    </tr>\n",
       "    <tr>\n",
       "      <th>3</th>\n",
       "      <td>134.0</td>\n",
       "      <td>Sagaing</td>\n",
       "      <td>MMR005</td>\n",
       "      <td>Hkamti</td>\n",
       "      <td>MMR005D008</td>\n",
       "      <td>Nanyun</td>\n",
       "      <td>áááºá¸áá½ááºá¸</td>\n",
       "      <td>MMR005037</td>\n",
       "      <td>Sagaing Region</td>\n",
       "      <td>Nanyun\\n78605</td>\n",
       "      <td>Naga</td>\n",
       "      <td>Region</td>\n",
       "      <td>6613.151755</td>\n",
       "      <td>POLYGON ((95.90216654300004 26.48919462400008,...</td>\n",
       "    </tr>\n",
       "    <tr>\n",
       "      <th>4</th>\n",
       "      <td>77.0</td>\n",
       "      <td>Sagaing</td>\n",
       "      <td>MMR005</td>\n",
       "      <td>Hkamti</td>\n",
       "      <td>MMR005D008</td>\n",
       "      <td>Lay Shi</td>\n",
       "      <td>áá±áá¾á®á¸</td>\n",
       "      <td>MMR005035</td>\n",
       "      <td>Sagaing Region</td>\n",
       "      <td>None</td>\n",
       "      <td>Naga</td>\n",
       "      <td>Region</td>\n",
       "      <td>2792.837366</td>\n",
       "      <td>POLYGON ((94.67146862700005 24.87438462500003,...</td>\n",
       "    </tr>\n",
       "  </tbody>\n",
       "</table>\n",
       "</div>"
      ],
      "text/plain": [
       "   OBJECTID            ST ST_PCODE        DT    DT_PCODE        TS  \\\n",
       "0     203.0  Shan (South)   MMR014  Taunggyi  MMR014D001   Pindaya   \n",
       "1     240.0  Shan (South)   MMR014  Taunggyi  MMR014D001   Ywangan   \n",
       "2     106.0  Shan (South)   MMR014  Taunggyi  MMR014D001  Pinlaung   \n",
       "3     134.0       Sagaing   MMR005    Hkamti  MMR005D008    Nanyun   \n",
       "4      77.0       Sagaing   MMR005    Hkamti  MMR005D008   Lay Shi   \n",
       "\n",
       "                        TS_MYA   TS_PCODE                ST_2  \\\n",
       "0           áááºá¸áá  MMR014006  Shan State (South)   \n",
       "1              áá½á¬áá¶  MMR014007  Shan State (South)   \n",
       "2  áááºáá±á¬ááºá¸  MMR014009  Shan State (South)   \n",
       "3  áááºá¸áá½ááºá¸  MMR005037      Sagaing Region   \n",
       "4           áá±áá¾á®á¸  MMR005035      Sagaing Region   \n",
       "\n",
       "             LABEL2 S_ADMIN   ST_RG         AREA  \\\n",
       "0    Pindaya\\n77769    Danu   State   629.024963   \n",
       "1    Ywangan\\n76933    Danu   State  2984.376944   \n",
       "2  Pinlaung\\n162537    Pa-O   State  3396.963489   \n",
       "3     Nanyun\\n78605    Naga  Region  6613.151755   \n",
       "4              None    Naga  Region  2792.837366   \n",
       "\n",
       "                                            geometry  \n",
       "0  POLYGON ((96.77309906800012 21.04325973900007,...  \n",
       "1  POLYGON ((96.7848338460001 21.73454093300002, ...  \n",
       "2  POLYGON ((96.49517839500007 20.4798822220001, ...  \n",
       "3  POLYGON ((95.90216654300004 26.48919462400008,...  \n",
       "4  POLYGON ((94.67146862700005 24.87438462500003,...  "
      ]
     },
     "execution_count": 5,
     "metadata": {},
     "output_type": "execute_result"
    }
   ],
   "source": [
    "sar_gdf.head()"
   ]
  },
  {
   "cell_type": "code",
   "execution_count": 6,
   "metadata": {
    "collapsed": false
   },
   "outputs": [],
   "source": [
    "all_gdfs = [tsp_gdf,sar_gdf]"
   ]
  },
  {
   "cell_type": "code",
   "execution_count": 7,
   "metadata": {
    "collapsed": false
   },
   "outputs": [],
   "source": [
    "def get_index_of_tsp_location(lat,lon,gdfs):\n",
    "    gdfs_list = []\n",
    "    if isinstance(gdfs, list):\n",
    "        gdfs_list = gdfs\n",
    "    else:\n",
    "        gdfs_list.append(gdfs)\n",
    "    for g in gdfs_list:\n",
    "        #display(g.head())\n",
    "        for i, t in g.iterrows():\n",
    "            g_type = t.geometry.geom_type\n",
    "            if (g_type == 'Polygon'):\n",
    "                polygon = sgeom.polygon.Polygon(t.geometry)\n",
    "            elif (g_type == 'MultiPolygon'):\n",
    "                polygon = sgeom.multipolygon.MultiPolygon(t.geometry)\n",
    "            if polygon.contains(sgeom.Point(lon, lat)):\n",
    "                return pd.DataFrame(t).T\n",
    "    return pd.DataFrame(columns=gdfs[0].columns)"
   ]
  },
  {
   "cell_type": "code",
   "execution_count": 8,
   "metadata": {
    "collapsed": false
   },
   "outputs": [
    {
     "data": {
      "text/html": [
       "<div>\n",
       "<style scoped>\n",
       "    .dataframe tbody tr th:only-of-type {\n",
       "        vertical-align: middle;\n",
       "    }\n",
       "\n",
       "    .dataframe tbody tr th {\n",
       "        vertical-align: top;\n",
       "    }\n",
       "\n",
       "    .dataframe thead th {\n",
       "        text-align: right;\n",
       "    }\n",
       "</style>\n",
       "<table border=\"1\" class=\"dataframe\">\n",
       "  <thead>\n",
       "    <tr style=\"text-align: right;\">\n",
       "      <th></th>\n",
       "      <th>OBJECTID</th>\n",
       "      <th>ST</th>\n",
       "      <th>ST_PCODE</th>\n",
       "      <th>DT</th>\n",
       "      <th>DT_PCODE</th>\n",
       "      <th>TS</th>\n",
       "      <th>TS_PCODE</th>\n",
       "      <th>ST_2</th>\n",
       "      <th>LABEL2</th>\n",
       "      <th>SELF_ADMIN</th>\n",
       "      <th>ST_RG</th>\n",
       "      <th>T_NAME_WIN</th>\n",
       "      <th>T_NAME_M3</th>\n",
       "      <th>AREA</th>\n",
       "      <th>geometry</th>\n",
       "    </tr>\n",
       "  </thead>\n",
       "  <tbody>\n",
       "    <tr>\n",
       "      <th>0</th>\n",
       "      <td>250</td>\n",
       "      <td>Kachin</td>\n",
       "      <td>MMR001</td>\n",
       "      <td>Mohnyin</td>\n",
       "      <td>MMR001D002</td>\n",
       "      <td>Hpakant</td>\n",
       "      <td>MMR001009</td>\n",
       "      <td>Kachin State</td>\n",
       "      <td>Hpakant\\n169795</td>\n",
       "      <td>None</td>\n",
       "      <td>State</td>\n",
       "      <td>zm;uefU</td>\n",
       "      <td>áá¬á¸ááá·áº</td>\n",
       "      <td>5761.3</td>\n",
       "      <td>POLYGON ((96.15952987500003 26.11798109600001,...</td>\n",
       "    </tr>\n",
       "  </tbody>\n",
       "</table>\n",
       "</div>"
      ],
      "text/plain": [
       "  OBJECTID      ST ST_PCODE       DT    DT_PCODE       TS   TS_PCODE  \\\n",
       "0      250  Kachin   MMR001  Mohnyin  MMR001D002  Hpakant  MMR001009   \n",
       "\n",
       "           ST_2           LABEL2 SELF_ADMIN  ST_RG T_NAME_WIN  \\\n",
       "0  Kachin State  Hpakant\\n169795       None  State    zm;uefU   \n",
       "\n",
       "               T_NAME_M3    AREA  \\\n",
       "0  áá¬á¸ááá·áº  5761.3   \n",
       "\n",
       "                                            geometry  \n",
       "0  POLYGON ((96.15952987500003 26.11798109600001,...  "
      ]
     },
     "execution_count": 8,
     "metadata": {},
     "output_type": "execute_result"
    }
   ],
   "source": [
    "# testing a point in Hpakant\n",
    "\n",
    "get_index_of_tsp_location(25.6787,96.3858,all_gdfs)"
   ]
  },
  {
   "cell_type": "code",
   "execution_count": 9,
   "metadata": {
    "collapsed": false
   },
   "outputs": [
    {
     "data": {
      "text/html": [
       "<div>\n",
       "<style scoped>\n",
       "    .dataframe tbody tr th:only-of-type {\n",
       "        vertical-align: middle;\n",
       "    }\n",
       "\n",
       "    .dataframe tbody tr th {\n",
       "        vertical-align: top;\n",
       "    }\n",
       "\n",
       "    .dataframe thead th {\n",
       "        text-align: right;\n",
       "    }\n",
       "</style>\n",
       "<table border=\"1\" class=\"dataframe\">\n",
       "  <thead>\n",
       "    <tr style=\"text-align: right;\">\n",
       "      <th></th>\n",
       "      <th>OBJECTID</th>\n",
       "      <th>ST</th>\n",
       "      <th>ST_PCODE</th>\n",
       "      <th>DT</th>\n",
       "      <th>DT_PCODE</th>\n",
       "      <th>TS</th>\n",
       "      <th>TS_PCODE</th>\n",
       "      <th>ST_2</th>\n",
       "      <th>LABEL2</th>\n",
       "      <th>SELF_ADMIN</th>\n",
       "      <th>ST_RG</th>\n",
       "      <th>T_NAME_WIN</th>\n",
       "      <th>T_NAME_M3</th>\n",
       "      <th>AREA</th>\n",
       "      <th>geometry</th>\n",
       "    </tr>\n",
       "  </thead>\n",
       "  <tbody>\n",
       "  </tbody>\n",
       "</table>\n",
       "</div>"
      ],
      "text/plain": [
       "Empty DataFrame\n",
       "Columns: [OBJECTID, ST, ST_PCODE, DT, DT_PCODE, TS, TS_PCODE, ST_2, LABEL2, SELF_ADMIN, ST_RG, T_NAME_WIN, T_NAME_M3, AREA, geometry]\n",
       "Index: []"
      ]
     },
     "execution_count": 9,
     "metadata": {},
     "output_type": "execute_result"
    }
   ],
   "source": [
    "# testing a point not in Myanmar, should return empty\n",
    "\n",
    "get_index_of_tsp_location(0,1,all_gdfs)\n"
   ]
  },
  {
   "cell_type": "code",
   "execution_count": 10,
   "metadata": {
    "collapsed": false
   },
   "outputs": [
    {
     "data": {
      "text/html": [
       "<div>\n",
       "<style scoped>\n",
       "    .dataframe tbody tr th:only-of-type {\n",
       "        vertical-align: middle;\n",
       "    }\n",
       "\n",
       "    .dataframe tbody tr th {\n",
       "        vertical-align: top;\n",
       "    }\n",
       "\n",
       "    .dataframe thead th {\n",
       "        text-align: right;\n",
       "    }\n",
       "</style>\n",
       "<table border=\"1\" class=\"dataframe\">\n",
       "  <thead>\n",
       "    <tr style=\"text-align: right;\">\n",
       "      <th></th>\n",
       "      <th>OBJECTID</th>\n",
       "      <th>ST</th>\n",
       "      <th>ST_PCODE</th>\n",
       "      <th>DT</th>\n",
       "      <th>DT_PCODE</th>\n",
       "      <th>TS</th>\n",
       "      <th>TS_PCODE</th>\n",
       "      <th>ST_2</th>\n",
       "      <th>LABEL2</th>\n",
       "      <th>SELF_ADMIN</th>\n",
       "      <th>ST_RG</th>\n",
       "      <th>T_NAME_WIN</th>\n",
       "      <th>T_NAME_M3</th>\n",
       "      <th>AREA</th>\n",
       "      <th>geometry</th>\n",
       "    </tr>\n",
       "  </thead>\n",
       "  <tbody>\n",
       "    <tr>\n",
       "      <th>315</th>\n",
       "      <td>224</td>\n",
       "      <td>Shan (North)</td>\n",
       "      <td>MMR015</td>\n",
       "      <td>Hopang</td>\n",
       "      <td>MMR015D006</td>\n",
       "      <td>Hopang</td>\n",
       "      <td>MMR015021</td>\n",
       "      <td>Shan State (North)</td>\n",
       "      <td>Hopang\\n24637</td>\n",
       "      <td>Wa</td>\n",
       "      <td>State</td>\n",
       "      <td>[dkyef</td>\n",
       "      <td>áá­á¯áááº</td>\n",
       "      <td>1332.38</td>\n",
       "      <td>POLYGON ((98.51675274000003 22.95548887200003,...</td>\n",
       "    </tr>\n",
       "  </tbody>\n",
       "</table>\n",
       "</div>"
      ],
      "text/plain": [
       "    OBJECTID            ST ST_PCODE      DT    DT_PCODE      TS   TS_PCODE  \\\n",
       "315      224  Shan (North)   MMR015  Hopang  MMR015D006  Hopang  MMR015021   \n",
       "\n",
       "                   ST_2         LABEL2 SELF_ADMIN  ST_RG T_NAME_WIN  \\\n",
       "315  Shan State (North)  Hopang\\n24637         Wa  State     [dkyef   \n",
       "\n",
       "              T_NAME_M3     AREA  \\\n",
       "315  áá­á¯áááº  1332.38   \n",
       "\n",
       "                                              geometry  \n",
       "315  POLYGON ((98.51675274000003 22.95548887200003,...  "
      ]
     },
     "execution_count": 10,
     "metadata": {},
     "output_type": "execute_result"
    }
   ],
   "source": [
    "# testing a point not in Hopang, Wa SAR\n",
    "\n",
    "get_index_of_tsp_location(23.4254,98.7556,all_gdfs)\n"
   ]
  },
  {
   "cell_type": "code",
   "execution_count": 11,
   "metadata": {
    "collapsed": false
   },
   "outputs": [],
   "source": [
    "def viz_point(lat,lon,gdfs):\n",
    "    location_result = get_index_of_tsp_location(25.6787,96.3858,gdfs)\n",
    "    #location_result = get_attributes_of_tsp_location(16.8728,96.0685,geoms,df)\n",
    "    map = folium.Map(location=[lat,lon], zoom_start=12)\n",
    "    \n",
    "    html=\"\"\"\n",
    "    <strong>Township: </strong>{tsp}<br/>\n",
    "    <strong>State/Region: </strong>{st}<br/>\n",
    "    <strong>Pcode: </strong>{pcode}\n",
    "    \"\"\"\n",
    "    table = folium.Html(html.format(\n",
    "            tsp = location_result['TS'],\n",
    "            st = location_result['ST'],\n",
    "            pcode = location_result['TS_PCODE']\n",
    "        ), script=True)\n",
    "    popup = folium.Popup(table)\n",
    "    \n",
    "    folium.Marker([lat, lon], popup=popup).add_to(map)\n",
    "    return map"
   ]
  },
  {
   "cell_type": "code",
   "execution_count": 12,
   "metadata": {
    "collapsed": false
   },
   "outputs": [
    {
     "data": {
      "text/html": [
       "<div style=\"width:100%;\"><div style=\"position:relative;width:100%;height:0;padding-bottom:60%;\"><iframe src=\"data:text/html;charset=utf-8;base64,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\" style=\"position:absolute;width:100%;height:100%;left:0;top:0;border:none !important;\" allowfullscreen webkitallowfullscreen mozallowfullscreen></iframe></div></div>"
      ],
      "text/plain": [
       "<folium.folium.Map at 0x11f1a30f0>"
      ]
     },
     "execution_count": 12,
     "metadata": {},
     "output_type": "execute_result"
    }
   ],
   "source": [
    "viz_point(16.8728,96.0685,all_gdfs)"
   ]
  },
  {
   "cell_type": "markdown",
   "metadata": {
    "collapsed": true
   },
   "source": [
    "## Read from csv and add columns with township, state and Pcode"
   ]
  },
  {
   "cell_type": "code",
   "execution_count": 13,
   "metadata": {
    "collapsed": false
   },
   "outputs": [],
   "source": [
    "df = pd.read_csv('data/Coordinates.csv',sep=';')"
   ]
  },
  {
   "cell_type": "code",
   "execution_count": 14,
   "metadata": {
    "collapsed": false
   },
   "outputs": [
    {
     "data": {
      "text/html": [
       "<div>\n",
       "<style scoped>\n",
       "    .dataframe tbody tr th:only-of-type {\n",
       "        vertical-align: middle;\n",
       "    }\n",
       "\n",
       "    .dataframe tbody tr th {\n",
       "        vertical-align: top;\n",
       "    }\n",
       "\n",
       "    .dataframe thead th {\n",
       "        text-align: right;\n",
       "    }\n",
       "</style>\n",
       "<table border=\"1\" class=\"dataframe\">\n",
       "  <thead>\n",
       "    <tr style=\"text-align: right;\">\n",
       "      <th></th>\n",
       "      <th>ID</th>\n",
       "      <th>longitude</th>\n",
       "      <th>latitude</th>\n",
       "      <th>Unnamed: 3</th>\n",
       "    </tr>\n",
       "  </thead>\n",
       "  <tbody>\n",
       "    <tr>\n",
       "      <th>0</th>\n",
       "      <td>1</td>\n",
       "      <td>95.854584</td>\n",
       "      <td>17.497511</td>\n",
       "      <td>NaN</td>\n",
       "    </tr>\n",
       "    <tr>\n",
       "      <th>1</th>\n",
       "      <td>2</td>\n",
       "      <td>98.133858</td>\n",
       "      <td>22.036200</td>\n",
       "      <td>NaN</td>\n",
       "    </tr>\n",
       "    <tr>\n",
       "      <th>2</th>\n",
       "      <td>3</td>\n",
       "      <td>99.283318</td>\n",
       "      <td>20.381680</td>\n",
       "      <td>NaN</td>\n",
       "    </tr>\n",
       "    <tr>\n",
       "      <th>3</th>\n",
       "      <td>4</td>\n",
       "      <td>98.133858</td>\n",
       "      <td>22.036200</td>\n",
       "      <td>NaN</td>\n",
       "    </tr>\n",
       "    <tr>\n",
       "      <th>4</th>\n",
       "      <td>5</td>\n",
       "      <td>98.400002</td>\n",
       "      <td>22.483334</td>\n",
       "      <td>NaN</td>\n",
       "    </tr>\n",
       "    <tr>\n",
       "      <th>5</th>\n",
       "      <td>6</td>\n",
       "      <td>97.602486</td>\n",
       "      <td>23.714504</td>\n",
       "      <td>NaN</td>\n",
       "    </tr>\n",
       "    <tr>\n",
       "      <th>6</th>\n",
       "      <td>7</td>\n",
       "      <td>96.368736</td>\n",
       "      <td>24.767860</td>\n",
       "      <td>NaN</td>\n",
       "    </tr>\n",
       "    <tr>\n",
       "      <th>7</th>\n",
       "      <td>8</td>\n",
       "      <td>96.538742</td>\n",
       "      <td>23.649521</td>\n",
       "      <td>NaN</td>\n",
       "    </tr>\n",
       "    <tr>\n",
       "      <th>8</th>\n",
       "      <td>9</td>\n",
       "      <td>96.578339</td>\n",
       "      <td>25.703962</td>\n",
       "      <td>NaN</td>\n",
       "    </tr>\n",
       "    <tr>\n",
       "      <th>9</th>\n",
       "      <td>10</td>\n",
       "      <td>96.348228</td>\n",
       "      <td>25.620737</td>\n",
       "      <td>NaN</td>\n",
       "    </tr>\n",
       "  </tbody>\n",
       "</table>\n",
       "</div>"
      ],
      "text/plain": [
       "   ID  longitude   latitude  Unnamed: 3\n",
       "0   1  95.854584  17.497511         NaN\n",
       "1   2  98.133858  22.036200         NaN\n",
       "2   3  99.283318  20.381680         NaN\n",
       "3   4  98.133858  22.036200         NaN\n",
       "4   5  98.400002  22.483334         NaN\n",
       "5   6  97.602486  23.714504         NaN\n",
       "6   7  96.368736  24.767860         NaN\n",
       "7   8  96.538742  23.649521         NaN\n",
       "8   9  96.578339  25.703962         NaN\n",
       "9  10  96.348228  25.620737         NaN"
      ]
     },
     "execution_count": 14,
     "metadata": {},
     "output_type": "execute_result"
    }
   ],
   "source": [
    "df.head(10)"
   ]
  },
  {
   "cell_type": "markdown",
   "metadata": {},
   "source": [
    "#### Drop extra column from csv file"
   ]
  },
  {
   "cell_type": "code",
   "execution_count": 15,
   "metadata": {
    "collapsed": false
   },
   "outputs": [],
   "source": [
    "df.drop(['Unnamed: 3'], axis=1, inplace=True)"
   ]
  },
  {
   "cell_type": "markdown",
   "metadata": {},
   "source": [
    "#### Apply the get_attributes_of_tsp_location() function to every row in the dataframe and merge it with original dataframe"
   ]
  },
  {
   "cell_type": "code",
   "execution_count": 16,
   "metadata": {
    "collapsed": false
   },
   "outputs": [],
   "source": [
    "new_cols = ['ST','TS','TS_PCODE']\n",
    "new_df = pd.DataFrame(columns=list(df)+new_cols)\n",
    "\n",
    "for i,row in df.head(30).iterrows():\n",
    "    lookup = get_index_of_tsp_location(row['latitude'],row['longitude'],all_gdfs)[new_cols]\n",
    "    new_row = row.to_frame().T.reset_index(drop=True).combine_first(lookup.reset_index(drop=True))\n",
    "    new_df = pd.concat([new_df,new_row],sort=False)\n"
   ]
  },
  {
   "cell_type": "code",
   "execution_count": 17,
   "metadata": {
    "collapsed": false
   },
   "outputs": [
    {
     "data": {
      "text/html": [
       "<div>\n",
       "<style scoped>\n",
       "    .dataframe tbody tr th:only-of-type {\n",
       "        vertical-align: middle;\n",
       "    }\n",
       "\n",
       "    .dataframe tbody tr th {\n",
       "        vertical-align: top;\n",
       "    }\n",
       "\n",
       "    .dataframe thead th {\n",
       "        text-align: right;\n",
       "    }\n",
       "</style>\n",
       "<table border=\"1\" class=\"dataframe\">\n",
       "  <thead>\n",
       "    <tr style=\"text-align: right;\">\n",
       "      <th></th>\n",
       "      <th>ID</th>\n",
       "      <th>longitude</th>\n",
       "      <th>latitude</th>\n",
       "      <th>ST</th>\n",
       "      <th>TS</th>\n",
       "      <th>TS_PCODE</th>\n",
       "    </tr>\n",
       "  </thead>\n",
       "  <tbody>\n",
       "    <tr>\n",
       "      <th>0</th>\n",
       "      <td>1.0</td>\n",
       "      <td>95.854584</td>\n",
       "      <td>17.497511</td>\n",
       "      <td>Yangon</td>\n",
       "      <td>Taikkyi</td>\n",
       "      <td>MMR013005</td>\n",
       "    </tr>\n",
       "    <tr>\n",
       "      <th>0</th>\n",
       "      <td>2.0</td>\n",
       "      <td>98.133858</td>\n",
       "      <td>22.036200</td>\n",
       "      <td>Shan (South)</td>\n",
       "      <td>Kyethi</td>\n",
       "      <td>MMR014015</td>\n",
       "    </tr>\n",
       "    <tr>\n",
       "      <th>0</th>\n",
       "      <td>3.0</td>\n",
       "      <td>99.283318</td>\n",
       "      <td>20.381680</td>\n",
       "      <td>Shan (East)</td>\n",
       "      <td>Monghsat</td>\n",
       "      <td>MMR016006</td>\n",
       "    </tr>\n",
       "    <tr>\n",
       "      <th>0</th>\n",
       "      <td>4.0</td>\n",
       "      <td>98.133858</td>\n",
       "      <td>22.036200</td>\n",
       "      <td>Shan (South)</td>\n",
       "      <td>Kyethi</td>\n",
       "      <td>MMR014015</td>\n",
       "    </tr>\n",
       "    <tr>\n",
       "      <th>0</th>\n",
       "      <td>5.0</td>\n",
       "      <td>98.400002</td>\n",
       "      <td>22.483334</td>\n",
       "      <td>Shan (North)</td>\n",
       "      <td>Tangyan</td>\n",
       "      <td>MMR015004</td>\n",
       "    </tr>\n",
       "    <tr>\n",
       "      <th>0</th>\n",
       "      <td>6.0</td>\n",
       "      <td>97.602486</td>\n",
       "      <td>23.714504</td>\n",
       "      <td>Shan (North)</td>\n",
       "      <td>Namhkan</td>\n",
       "      <td>MMR015010</td>\n",
       "    </tr>\n",
       "    <tr>\n",
       "      <th>0</th>\n",
       "      <td>7.0</td>\n",
       "      <td>96.368736</td>\n",
       "      <td>24.767860</td>\n",
       "      <td>Kachin</td>\n",
       "      <td>Mohnyin</td>\n",
       "      <td>MMR001007</td>\n",
       "    </tr>\n",
       "    <tr>\n",
       "      <th>0</th>\n",
       "      <td>8.0</td>\n",
       "      <td>96.538742</td>\n",
       "      <td>23.649521</td>\n",
       "      <td>Shan (North)</td>\n",
       "      <td>Mabein</td>\n",
       "      <td>MMR015018</td>\n",
       "    </tr>\n",
       "    <tr>\n",
       "      <th>0</th>\n",
       "      <td>9.0</td>\n",
       "      <td>96.578339</td>\n",
       "      <td>25.703962</td>\n",
       "      <td>Kachin</td>\n",
       "      <td>Hpakant</td>\n",
       "      <td>MMR001009</td>\n",
       "    </tr>\n",
       "    <tr>\n",
       "      <th>0</th>\n",
       "      <td>10.0</td>\n",
       "      <td>96.348228</td>\n",
       "      <td>25.620737</td>\n",
       "      <td>Kachin</td>\n",
       "      <td>Hpakant</td>\n",
       "      <td>MMR001009</td>\n",
       "    </tr>\n",
       "    <tr>\n",
       "      <th>0</th>\n",
       "      <td>11.0</td>\n",
       "      <td>97.734428</td>\n",
       "      <td>23.983349</td>\n",
       "      <td>NaN</td>\n",
       "      <td>NaN</td>\n",
       "      <td>NaN</td>\n",
       "    </tr>\n",
       "    <tr>\n",
       "      <th>0</th>\n",
       "      <td>12.0</td>\n",
       "      <td>97.693604</td>\n",
       "      <td>23.849649</td>\n",
       "      <td>Shan (North)</td>\n",
       "      <td>Namhkan</td>\n",
       "      <td>MMR015010</td>\n",
       "    </tr>\n",
       "    <tr>\n",
       "      <th>0</th>\n",
       "      <td>13.0</td>\n",
       "      <td>97.943413</td>\n",
       "      <td>23.459209</td>\n",
       "      <td>Shan (North)</td>\n",
       "      <td>Kutkai</td>\n",
       "      <td>MMR015011</td>\n",
       "    </tr>\n",
       "    <tr>\n",
       "      <th>0</th>\n",
       "      <td>14.0</td>\n",
       "      <td>97.746292</td>\n",
       "      <td>23.860954</td>\n",
       "      <td>Shan (North)</td>\n",
       "      <td>Namhkan</td>\n",
       "      <td>MMR015010</td>\n",
       "    </tr>\n",
       "    <tr>\n",
       "      <th>0</th>\n",
       "      <td>15.0</td>\n",
       "      <td>96.447617</td>\n",
       "      <td>24.766546</td>\n",
       "      <td>Kachin</td>\n",
       "      <td>Mohnyin</td>\n",
       "      <td>MMR001007</td>\n",
       "    </tr>\n",
       "    <tr>\n",
       "      <th>0</th>\n",
       "      <td>16.0</td>\n",
       "      <td>97.904724</td>\n",
       "      <td>23.979168</td>\n",
       "      <td>Shan (North)</td>\n",
       "      <td>Muse</td>\n",
       "      <td>MMR015009</td>\n",
       "    </tr>\n",
       "    <tr>\n",
       "      <th>0</th>\n",
       "      <td>17.0</td>\n",
       "      <td>98.246834</td>\n",
       "      <td>24.046324</td>\n",
       "      <td>Shan (North)</td>\n",
       "      <td>Muse</td>\n",
       "      <td>MMR015009</td>\n",
       "    </tr>\n",
       "    <tr>\n",
       "      <th>0</th>\n",
       "      <td>18.0</td>\n",
       "      <td>97.659012</td>\n",
       "      <td>23.864977</td>\n",
       "      <td>Shan (North)</td>\n",
       "      <td>Namhkan</td>\n",
       "      <td>MMR015010</td>\n",
       "    </tr>\n",
       "    <tr>\n",
       "      <th>0</th>\n",
       "      <td>19.0</td>\n",
       "      <td>97.681671</td>\n",
       "      <td>23.836010</td>\n",
       "      <td>Shan (North)</td>\n",
       "      <td>Namhkan</td>\n",
       "      <td>MMR015010</td>\n",
       "    </tr>\n",
       "    <tr>\n",
       "      <th>0</th>\n",
       "      <td>20.0</td>\n",
       "      <td>97.183334</td>\n",
       "      <td>20.783333</td>\n",
       "      <td>Shan (South)</td>\n",
       "      <td>Hopong</td>\n",
       "      <td>MMR014003</td>\n",
       "    </tr>\n",
       "  </tbody>\n",
       "</table>\n",
       "</div>"
      ],
      "text/plain": [
       "     ID  longitude   latitude            ST        TS   TS_PCODE\n",
       "0   1.0  95.854584  17.497511        Yangon   Taikkyi  MMR013005\n",
       "0   2.0  98.133858  22.036200  Shan (South)    Kyethi  MMR014015\n",
       "0   3.0  99.283318  20.381680   Shan (East)  Monghsat  MMR016006\n",
       "0   4.0  98.133858  22.036200  Shan (South)    Kyethi  MMR014015\n",
       "0   5.0  98.400002  22.483334  Shan (North)   Tangyan  MMR015004\n",
       "0   6.0  97.602486  23.714504  Shan (North)   Namhkan  MMR015010\n",
       "0   7.0  96.368736  24.767860        Kachin   Mohnyin  MMR001007\n",
       "0   8.0  96.538742  23.649521  Shan (North)    Mabein  MMR015018\n",
       "0   9.0  96.578339  25.703962        Kachin   Hpakant  MMR001009\n",
       "0  10.0  96.348228  25.620737        Kachin   Hpakant  MMR001009\n",
       "0  11.0  97.734428  23.983349           NaN       NaN        NaN\n",
       "0  12.0  97.693604  23.849649  Shan (North)   Namhkan  MMR015010\n",
       "0  13.0  97.943413  23.459209  Shan (North)    Kutkai  MMR015011\n",
       "0  14.0  97.746292  23.860954  Shan (North)   Namhkan  MMR015010\n",
       "0  15.0  96.447617  24.766546        Kachin   Mohnyin  MMR001007\n",
       "0  16.0  97.904724  23.979168  Shan (North)      Muse  MMR015009\n",
       "0  17.0  98.246834  24.046324  Shan (North)      Muse  MMR015009\n",
       "0  18.0  97.659012  23.864977  Shan (North)   Namhkan  MMR015010\n",
       "0  19.0  97.681671  23.836010  Shan (North)   Namhkan  MMR015010\n",
       "0  20.0  97.183334  20.783333  Shan (South)    Hopong  MMR014003"
      ]
     },
     "execution_count": 17,
     "metadata": {},
     "output_type": "execute_result"
    }
   ],
   "source": [
    "new_df.head(20)"
   ]
  },
  {
   "cell_type": "code",
   "execution_count": 18,
   "metadata": {
    "collapsed": false
   },
   "outputs": [
    {
     "data": {
      "text/html": [
       "<div>\n",
       "<style scoped>\n",
       "    .dataframe tbody tr th:only-of-type {\n",
       "        vertical-align: middle;\n",
       "    }\n",
       "\n",
       "    .dataframe tbody tr th {\n",
       "        vertical-align: top;\n",
       "    }\n",
       "\n",
       "    .dataframe thead th {\n",
       "        text-align: right;\n",
       "    }\n",
       "</style>\n",
       "<table border=\"1\" class=\"dataframe\">\n",
       "  <thead>\n",
       "    <tr style=\"text-align: right;\">\n",
       "      <th></th>\n",
       "      <th>ID</th>\n",
       "      <th>longitude</th>\n",
       "      <th>latitude</th>\n",
       "      <th>ST</th>\n",
       "      <th>TS</th>\n",
       "      <th>TS_PCODE</th>\n",
       "    </tr>\n",
       "  </thead>\n",
       "  <tbody>\n",
       "    <tr>\n",
       "      <th>0</th>\n",
       "      <td>11.0</td>\n",
       "      <td>97.734428</td>\n",
       "      <td>23.983349</td>\n",
       "      <td>NaN</td>\n",
       "      <td>NaN</td>\n",
       "      <td>NaN</td>\n",
       "    </tr>\n",
       "  </tbody>\n",
       "</table>\n",
       "</div>"
      ],
      "text/plain": [
       "     ID  longitude   latitude   ST   TS TS_PCODE\n",
       "0  11.0  97.734428  23.983349  NaN  NaN      NaN"
      ]
     },
     "execution_count": 18,
     "metadata": {},
     "output_type": "execute_result"
    }
   ],
   "source": [
    "new_df[new_df.isnull().any(axis=1)]"
   ]
  },
  {
   "cell_type": "code",
   "execution_count": 19,
   "metadata": {
    "collapsed": false
   },
   "outputs": [
    {
     "name": "stdout",
     "output_type": "stream",
     "text": [
      "ID                11\n",
      "longitude    97.7344\n",
      "latitude     23.9833\n",
      "ST               NaN\n",
      "TS               NaN\n",
      "TS_PCODE         NaN\n",
      "Name: 0, dtype: object\n"
     ]
    },
    {
     "data": {
      "text/html": [
       "<div style=\"width:100%;\"><div style=\"position:relative;width:100%;height:0;padding-bottom:60%;\"><iframe src=\"data:text/html;charset=utf-8;base64,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\" style=\"position:absolute;width:100%;height:100%;left:0;top:0;border:none !important;\" allowfullscreen webkitallowfullscreen mozallowfullscreen></iframe></div></div>"
      ],
      "text/plain": [
       "<folium.folium.Map at 0x11eca8978>"
      ]
     },
     "metadata": {},
     "output_type": "display_data"
    }
   ],
   "source": [
    "## Looks like the reason why we are null values for the Pcode lookups is because some of the points are not in Myanmar\n",
    "\n",
    "null_points = new_df[new_df.isnull().any(axis=1)]\n",
    "\n",
    "for i,row in null_points.iterrows():\n",
    "    print(row)\n",
    "    display(viz_point(row['latitude'],row['longitude'],all_gdfs))"
   ]
  },
  {
   "cell_type": "markdown",
   "metadata": {
    "collapsed": true
   },
   "source": [
    "#### Save output as a csv file"
   ]
  },
  {
   "cell_type": "code",
   "execution_count": 20,
   "metadata": {
    "collapsed": false
   },
   "outputs": [],
   "source": [
    "new_df.to_csv('data/Coordinates_with_location.csv',sep=',')"
   ]
  },
  {
   "cell_type": "code",
   "execution_count": null,
   "metadata": {
    "collapsed": true
   },
   "outputs": [],
   "source": []
  }
 ],
 "metadata": {
  "kernelspec": {
   "display_name": "Python 3",
   "language": "python",
   "name": "python3"
  },
  "language_info": {
   "codemirror_mode": {
    "name": "ipython",
    "version": 3
   },
   "file_extension": ".py",
   "mimetype": "text/x-python",
   "name": "python",
   "nbconvert_exporter": "python",
   "pygments_lexer": "ipython3",
   "version": "3.7.0"
  }
 },
 "nbformat": 4,
 "nbformat_minor": 1
}
